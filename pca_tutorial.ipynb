{
 "cells": [
  {
   "cell_type": "code",
   "execution_count": null,
   "metadata": {},
   "outputs": [],
   "source": [
    "%matplotlib inline\n",
    "import numpy as np\n",
    "import matplotlib.pyplot as plt\n",
    "from mpl_toolkits.mplot3d import Axes3D\n",
    "from matplotlib.patches import Ellipse"
   ]
  },
  {
   "cell_type": "code",
   "execution_count": null,
   "metadata": {},
   "outputs": [],
   "source": [
    "# PCA in 3D\n",
    "n = 100\n",
    "points = np.random.randn(100, 3) @ np.diag([10, 1, 5])\n",
    "### rotate by random angles\n",
    "theta, phi = np.random.rand(2) * 2 * np.pi\n",
    "### http://www.bioinfo.rpi.edu/~bystrc/courses/biol4550/lecture3/img006.gif\n",
    "#points = points @ np.array([[np.cos(theta), -np.sin(theta), 0], [np.sin(theta), np.cos(theta), 0], [0, 0, 1]])\n",
    "#points = points @ np.array([[np.cos(phi), 0, -np.sin(phi)], [0, 1, 0], [np.sin(phi), 0, np.cos(phi)]])\n",
    "\n",
    "### Show ellipsoid\n",
    "fig = plt.figure()\n",
    "ax = fig.add_subplot(111, projection=\"3d\")\n",
    "ax.scatter(points[:, 0], points[:, 1], points[:, 2])\n",
    "plt.show()"
   ]
  },
  {
   "cell_type": "code",
   "execution_count": null,
   "metadata": {},
   "outputs": [],
   "source": [
    "points = np.array([[2, 1], [2.2, 3.5], [2.7, 4], [3,5], [4, 5.3]])\n",
    "n = points.shape[0]"
   ]
  },
  {
   "cell_type": "code",
   "execution_count": null,
   "metadata": {},
   "outputs": [],
   "source": [
    "# Draw points and line y = x\n",
    "x = np.arange(1, 5, 0.01)\n",
    "fig = plt.figure(figsize=(10, 5))\n",
    "ax1 = fig.add_subplot(121)\n",
    "ax2 = fig.add_subplot(122)\n",
    "for ax in [ax1, ax2]:\n",
    "    ax.plot(points[:, 0], points[:, 1], \".b\", ms=10)\n",
    "    ax.plot(x, x, \"k\")\n",
    "# Draw length from each point to line either in terms of y-distance or Euclidean distance\n",
    "### y-distance:\n",
    "for j in range(n):    \n",
    "    ys = [points[j, 0], points[j, 1]]\n",
    "    ax1.vlines(x=points[j, 0], ymin=np.min(ys), ymax=np.max(ys), color=\"r\")\n",
    "### Euclidean distance:\n",
    "for j in range(n):\n",
    "    init_point = points[j, :]\n",
    "    if init_point[1] > init_point[0]:\n",
    "        increment = np.array([0.01, -0.01])\n",
    "    else:\n",
    "        increment = np.array([-0.01, 0.01])\n",
    "    euclid_points = [init_point]\n",
    "    while not np.isclose(euclid_points[-1][0], euclid_points[-1][1], atol=0.01):\n",
    "        euclid_points.append(euclid_points[-1]+increment)\n",
    "    euclid_points = np.stack(euclid_points)\n",
    "    ax2.plot(euclid_points[:, 0], euclid_points[:, 1], \"r\")\n",
    "plt.show()"
   ]
  },
  {
   "cell_type": "code",
   "execution_count": null,
   "metadata": {},
   "outputs": [],
   "source": [
    "# Draw ellipse and points from 2D Guassian\n",
    "n = 100\n",
    "### Sample points from Gaussian\n",
    "points = np.random.randn(n, 2)\n",
    "### Scale distribution\n",
    "a = 3\n",
    "b = 1\n",
    "points = points @ np.array([[a, 0], [0, b]])\n",
    "### Rotate distribution by random angle\n",
    "theta = np.random.rand() * 2 * np.pi\n",
    "points = points @ np.array([[np.cos(theta), -np.sin(theta)], [np.sin(theta), np.cos(theta)]])\n",
    "\n",
    "### Scatter points\n",
    "fig = plt.figure()\n",
    "ax = fig.add_subplot(111)\n",
    "ax.scatter(points[:, 0], points[:, 1], c=\"k\", s=5)\n",
    "\n",
    "### Draw axes corresponding to principal components\n",
    "centered_points = points - np.mean(points, axis=0)\n",
    "covariance_matrix = np.cov(centered_points.T)\n",
    "eigvals, eigvecs = np.linalg.eigh(covariance_matrix)\n",
    "\n",
    "### Draw rays from origin to (scaled) eigenvectors\n",
    "t = np.arange(-1, 1, 0.01)\n",
    "first_pc = np.stack([tt  * np.sqrt(eigvals[0]) * eigvecs[:, 0] for tt in t])\n",
    "second_pc = np.stack([tt  * np.sqrt(eigvals[1]) * eigvecs[:, 1] for tt in t])\n",
    "ax.plot(first_pc[:, 0], first_pc[:, 1], \"r\", lw=2)\n",
    "ax.plot(second_pc[:, 0], second_pc[:, 1], \"b\", lw=2)\n",
    "\n",
    "\n",
    "### Center graph at orprint(eigvals)igin\n",
    "original_x_low, original_x_high = ax.get_xlim()\n",
    "original_y_low, original_y_high = ax.get_ylim()\n",
    "bigger_x = np.max([np.abs(original_x_low), np.abs(original_x_high)])\n",
    "bigger_y = np.max([np.abs(original_y_low), np.abs(original_y_high)])\n",
    "ax.set_xlim(-bigger_x, bigger_x)\n",
    "ax.set_ylim(-bigger_y, bigger_y)\n",
    "\n",
    "### Small embellishments\n",
    "ax.grid(True)\n",
    "plt.axis('equal')\n",
    "\n",
    "plt.show()##"
   ]
  },
  {
   "cell_type": "code",
   "execution_count": null,
   "metadata": {},
   "outputs": [],
   "source": [
    "v = first_pc[1] - first_pc[2]\n",
    "u = second_pc[1] - second_pc[2]\n",
    "np.dot(u,v)"
   ]
  },
  {
   "cell_type": "code",
   "execution_count": null,
   "metadata": {},
   "outputs": [],
   "source": [
    "np.dot(eigvecs[:,0],eigvecs[:,1])"
   ]
  },
  {
   "cell_type": "code",
   "execution_count": null,
   "metadata": {},
   "outputs": [],
   "source": [
    "# PCA on uncentered v. centered data\n",
    "n = 100\n",
    "points = np.random.randn(n, 2)\n",
    "### Scale and rotate points\n",
    "points = points @ np.array([[1, 0], [0, 0.3]])\n",
    "theta = -np.pi/6\n",
    "points = points @ np.array([[np.cos(theta), -np.sin(theta)], [np.sin(theta), np.cos(theta)]])\n",
    "### Translate points\n",
    "centered_points = points - np.mean(points, axis=0)\n",
    "points += np.array([-3, 2])\n",
    "\n",
    "### Create graphs\n",
    "fig = plt.figure(figsize=(10, 5))\n",
    "ax1 = fig.add_subplot(121)\n",
    "ax1.scatter(points[:, 0], points[:, 1])\n",
    "ax2 = fig.add_subplot(122)\n",
    "ax2.scatter(centered_points[:, 0], centered_points[:, 1])\n",
    "for ax in [ax1, ax2]:\n",
    "    ax.grid(True)\n",
    "    ax.axhline(0, color=\"k\")\n",
    "    ax.axvline(0, color=\"k\")\n",
    "    ax.set_xlim(ax1.get_xlim()[0], ax2.get_xlim()[1])\n",
    "    ax.set_ylim(ax2.get_ylim()[0], ax1.get_ylim()[1])\n",
    "\n",
    "### Compute and draw principal components\n",
    "t = np.arange(-1, 1, 0.01)\n",
    "for ax, data, label in zip([ax1, ax2], [points, centered_points], [\"Bad\", \"Good\"]):\n",
    "    cov = np.dot(np.transpose(data),data)\n",
    "    eigvals, eigvecs = np.linalg.eigh(cov)\n",
    "    eig_axis = np.stack([tt * eigvecs[:, -1] for tt in t])\n",
    "    ax.plot(eig_axis[:, 0], eig_axis[:, 1], \"r\", lw=4)\n",
    "    ax.set_title(label)\n",
    "\n",
    "plt.show()"
   ]
  },
  {
   "cell_type": "code",
   "execution_count": null,
   "metadata": {},
   "outputs": [],
   "source": []
  },
  {
   "cell_type": "code",
   "execution_count": null,
   "metadata": {},
   "outputs": [],
   "source": []
  }
 ],
 "metadata": {
  "kernelspec": {
   "display_name": "Python 3",
   "language": "python",
   "name": "python3"
  },
  "language_info": {
   "codemirror_mode": {
    "name": "ipython",
    "version": 3
   },
   "file_extension": ".py",
   "mimetype": "text/x-python",
   "name": "python",
   "nbconvert_exporter": "python",
   "pygments_lexer": "ipython3",
   "version": "3.6.5-final"
  }
 },
 "nbformat": 4,
 "nbformat_minor": 2
}